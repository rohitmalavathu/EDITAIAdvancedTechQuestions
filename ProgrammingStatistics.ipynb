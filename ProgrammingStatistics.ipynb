{
 "cells": [
  {
   "cell_type": "code",
   "execution_count": 3,
   "metadata": {},
   "outputs": [],
   "source": [
    "data_list = [5.99342831, 4.7234714 , 6.29537708, 8.04605971, 4.53169325,\n",
    "4.53172609, 8.15842563, 6.53486946, 4.06105123, 6.08512009]"
   ]
  },
  {
   "cell_type": "markdown",
   "metadata": {},
   "source": [
    "Write a python/R function that returns the mean, standard deviation and number of elements of a python/R list/vector."
   ]
  },
  {
   "cell_type": "code",
   "execution_count": 2,
   "metadata": {},
   "outputs": [
    {
     "name": "stdout",
     "output_type": "stream",
     "text": [
      "mean: 5.896122225, stdev: 1.4460166657016584, number of elements: 10\n"
     ]
    }
   ],
   "source": [
    "def statistics_calculation(data_list):\n",
    "    total = sum(data_list)\n",
    "    mean = total / len(data_list)\n",
    "    x = 0 # Sum of each element minus the mean squared\n",
    "    for i in data_list:\n",
    "        x += (i - mean)**2\n",
    "    variance = x / (len(data_list) - 1)\n",
    "    stdev = variance ** 0.5\n",
    "    return mean, stdev, len(data_list)\n",
    "\n",
    "mean, stdev, length = statistics_calculation(data_list)\n",
    "print(f\"mean: {mean}, stdev: {stdev}, number of elements: {length}\")"
   ]
  },
  {
   "cell_type": "markdown",
   "metadata": {},
   "source": [
    "Given a float array (use the one from the previous problem) and a supplied\n",
    "“threshold” value, using the function from the functional programming problem,\n",
    "devise a one sample z-test that tests to see whether the mean value of the\n",
    "sample exceeds the supplied threshold value (you can use scipy or the package\n",
    "pingouin for help). Assume that the sample level variance matches the\n",
    "population-level variance (feel free to conduct a t-test if you want to violate this\n",
    "assumption). Suppose the threshold here is 4 if using the previous dataset. The\n",
    "analogy here in bioinformatics is that imagine that as a subcomponent of some \n",
    "experiment, we want to see whether the expression of certain genes surpasses a\n",
    "threshold that carries some previously established diagnostic or prognostic\n",
    "significance. Let’s call a gene with mean expression greater than the threshold a\n",
    "“bad” gene. Be prepared to speak to what the p-value means in the context of\n",
    "your test."
   ]
  },
  {
   "cell_type": "code",
   "execution_count": 3,
   "metadata": {},
   "outputs": [
    {
     "name": "stdout",
     "output_type": "stream",
     "text": [
      "Reject the null hypothesis. The p-value, 1.6871817879682283e-05, is less than 0.05. In other words. this gene is \"good\".\n"
     ]
    }
   ],
   "source": [
    "import scipy.stats as stats\n",
    "\n",
    "# Null Hypothesis: The mean of the list is less than or equal to the threshold\n",
    "# Alternative Hypothesis: The mean of the list is greater than the threshold\n",
    "\n",
    "def z_test(data_list, threshold):\n",
    "    p = 0.05\n",
    "    mean, stdev, n = statistics_calculation(data_list)\n",
    "    z_value = (mean - threshold) / (stdev / n ** 0.5)\n",
    "    p_value = 1 - stats.norm.cdf(z_value)\n",
    "    if p_value > p:\n",
    "        print(f\"Fail to reject the null hypothesis. The p-value, {p_value}, is greater than {p}. In other words, this gene is \\\"bad\\\".\")\n",
    "    else:\n",
    "        print(f\"Reject the null hypothesis. The p-value, {p_value}, is less than {p}. In other words. this gene is \\\"good\\\".\")\n",
    "\\\n",
    "threshold = 4\n",
    "z_test(data_list, threshold)"
   ]
  },
  {
   "cell_type": "markdown",
   "metadata": {},
   "source": [
    "We’re going to generate a python class that is able to perform these tests across\n",
    "many such “genes”. Generate a python/R data class that loads a csv file in its init\n",
    "method. The csv file will be comprised of a header line containing patient names,\n",
    "then each subsequent line will first start with a gene name, followed by\n",
    "“expression” values for each of the patients (this is a gene-by-sample matrix). We\n",
    "want to see if each of the genes is a “good/bad” gene using the previously\n",
    "established threshold (this is an unrealistic situation, but designed this way for\n",
    "simplicity). Define two methods for this class, one that re-implements your\n",
    "hypothesis test function from the previous section, and the other that calls this\n",
    "method on each of the lines of the csv, outputting a list of p-values and some\n",
    "indication of whether the gene was “good” or “bad”. We’ll use the same\n",
    "expression threshold of 4."
   ]
  },
  {
   "cell_type": "code",
   "execution_count": 7,
   "metadata": {},
   "outputs": [
    {
     "name": "stdout",
     "output_type": "stream",
     "text": [
      "0.018803988146461448, bad.\n",
      "0.999999999999999, good.\n",
      "9.588507765556642e-11, bad.\n",
      "0.9999999999997888, good.\n",
      "0.9987605666997652, good.\n",
      "0.5551021766305697, good.\n",
      "1.0, good.\n",
      "0.0, bad.\n"
     ]
    }
   ],
   "source": [
    "import csv\n",
    "import scipy.stats as stats\n",
    "\n",
    "\n",
    "class GeneTesting:\n",
    "  def __init__(self, file_path):\n",
    "    self.gene_by_sample_matrix = []\n",
    "    with open(file_path, mode ='r')as file:\n",
    "      csvFile = csv.reader(file)\n",
    "      for lines in csvFile:\n",
    "        self.gene_by_sample_matrix.append(lines)\n",
    "  \n",
    "  def z_test(self, data_list, threshold):\n",
    "    total = sum(data_list)\n",
    "    mean = total / len(data_list)\n",
    "\n",
    "    x = 0\n",
    "    for i in data_list:\n",
    "        x += (i - mean)**2\n",
    "    variance = x / (len(data_list) - 1)\n",
    "    stdev = variance ** 0.5\n",
    "\n",
    "    n = len(data_list)\n",
    "\n",
    "    p = 0.05\n",
    "    z_value = (mean - threshold) / (stdev / n ** 0.5)\n",
    "    p_value = float(1 - stats.norm.cdf(z_value))\n",
    "    if p_value > p:\n",
    "        return p_value, False\n",
    "    else:\n",
    "        return p_value, True\n",
    "    \n",
    "  def gene_testing(self, threshold = 4):\n",
    "    for j in range(1, len(self.gene_by_sample_matrix)):\n",
    "        data = list(map(float, self.gene_by_sample_matrix[j][1:]))\n",
    "        p_value, boolean = self.z_test(data, threshold)\n",
    "        if boolean:\n",
    "            print(f\"{p_value}, bad.\")\n",
    "        else:\n",
    "            print(f\"{p_value}, good.\")\n",
    "\n",
    "test1 = GeneTesting('1_c_d.csv')\n",
    "test1.gene_testing()"
   ]
  },
  {
   "cell_type": "markdown",
   "metadata": {},
   "source": [
    "We think that some of the expression of these genes may be correlated, but want\n",
    "to plot a scatter plot of the two genes expression values across the cohort to see\n",
    "if this is the case (each axis is each gene’s expression, each point is an\n",
    "individual). Please write a function or class method that takes as input two lists of\n",
    "floats, or two of the gene lists from the previous problem, and outputs a\n",
    "scatterplot of the two gene’s expression across the cohort. Libraries like\n",
    "matplotlib, seaborn in python and ggplot in R are good for this task."
   ]
  },
  {
   "cell_type": "code",
   "execution_count": 26,
   "metadata": {},
   "outputs": [
    {
     "data": {
      "image/png": "[encoded data removed]",
      "text/plain": [
       "<Figure size 640x480 with 1 Axes>"
      ]
     },
     "metadata": {},
     "output_type": "display_data"
    }
   ],
   "source": [
    "import matplotlib.pyplot as plt\n",
    "\n",
    "def visualization(x, y, x_gene, y_gene):\n",
    "    plt.scatter(x, y)\n",
    "\n",
    "    plt.title(\"Relationship between \" + x_gene + \" and \" + y_gene)\n",
    "    plt.xlabel(x_gene + \" Expression\")\n",
    "    plt.ylabel(y_gene + \" Expression\")\n",
    "\n",
    "    plt.show()\n",
    "\n",
    "x = list(map(float, test1.gene_by_sample_matrix[1][1:]))\n",
    "x_gene = test1.gene_by_sample_matrix[1][0]\n",
    "y = list(map(float, test1.gene_by_sample_matrix[5][1:]))\n",
    "y_gene = test1.gene_by_sample_matrix[5][0]\n",
    "\n",
    "visualization(x, y, x_gene, y_gene)"
   ]
  }
 ],
 "metadata": {
  "kernelspec": {
   "display_name": ".venv",
   "language": "python",
   "name": "python3"
  },
  "language_info": {
   "codemirror_mode": {
    "name": "ipython",
    "version": 3
   },
   "file_extension": ".py",
   "mimetype": "text/x-python",
   "name": "python",
   "nbconvert_exporter": "python",
   "pygments_lexer": "ipython3",
   "version": "3.13.2"
  }
 },
 "nbformat": 4,
 "nbformat_minor": 2
}
